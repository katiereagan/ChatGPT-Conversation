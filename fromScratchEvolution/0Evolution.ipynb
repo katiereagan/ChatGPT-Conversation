{
 "cells": [
  {
   "cell_type": "markdown",
   "id": "34ed7d30",
   "metadata": {},
   "source": [
    "### Overview\n",
    "\n",
    "The method I intended to use and title 'Evolution' starts by asking\n",
    "ChatGPT to create a Python-based image annotation code.\n",
    "Using this as a baseline, I then used the AI software to \n",
    "further develop the code.\n",
    "The general process is to suggest a new feature, debug,\n",
    "suggest a new feature, debug, etc.\n",
    "The goal is to eventually evolve the baseline program into \n",
    "something that meets the needs of the research.\n",
    "\n",
    "1Evolution varies from 2Evolution and 3Evolution in that the original 1Evolution\n",
    "was my first time attempting this method, with 2Evolution then 3Evolution\n",
    "following the same method but changing the order and phrasing of\n",
    "the requests in hopes of getting a different -- possibly better -- result."
   ]
  }
 ],
 "metadata": {
  "kernelspec": {
   "display_name": "Python 3 (ipykernel)",
   "language": "python",
   "name": "python3"
  },
  "language_info": {
   "codemirror_mode": {
    "name": "ipython",
    "version": 3
   },
   "file_extension": ".py",
   "mimetype": "text/x-python",
   "name": "python",
   "nbconvert_exporter": "python",
   "pygments_lexer": "ipython3",
   "version": "3.10.9"
  }
 },
 "nbformat": 4,
 "nbformat_minor": 5
}
