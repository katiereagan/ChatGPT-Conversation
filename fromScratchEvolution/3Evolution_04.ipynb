{
 "cells": [
  {
   "cell_type": "markdown",
   "id": "b4a6ecdb",
   "metadata": {},
   "source": [
    "### User:\n",
    "\n",
    "How do I annotate the image?\n",
    "\n",
    "### Chat GPT:\n",
    "\n",
    "To annotate on the image using the provided code, follow these steps:\n",
    "\n",
    "1. Run the code, and a window will open displaying the image.\n",
    "2. Click and hold the left mouse button to start drawing a rectangle.\n",
    "3. While holding the left mouse button, move the cursor to define the rectangle's dimensions.\n",
    "4. Release the left mouse button to finalize the rectangle.\n",
    "5. The annotated rectangle will appear in green on the image.\n",
    "Repeat steps 2-5 to annotate additional rectangles on the image.\n",
    "6. To view the coordinates of the annotated rectangle, press the 'c' key on your keyboard.\n",
    "7. The console will display the top-left and bottom-right coordinates of the rectangle.\n",
    "8. You can draw as many rectangles as you need and view their respective coordinates by pressing 'c'. \n",
    "The annotated rectangles will appear on the displayed image in real-time.\n",
    "\n",
    "Note: Make sure to replace \"path/to/image.jpg\" with the actual path to your image file in the code."
   ]
  },
  {
   "cell_type": "markdown",
   "id": "f16fb962",
   "metadata": {},
   "source": [
    "### User:\n",
    "\n",
    "Can you modify the code so that the annotations are not in the \n",
    "shape of a rectangle but a line made of pixels of custom size?\n",
    "\n",
    "### Chat GPT:\n",
    "\n",
    "Certainly! \n",
    "Here's the modified code that allows you to draw lines instead of rectangles for annotations:"
   ]
  },
  {
   "cell_type": "code",
   "execution_count": null,
   "id": "16c146ad",
   "metadata": {},
   "outputs": [],
   "source": [
    "from PIL import Image, ImageDraw\n",
    "import tkinter as tk\n",
    "\n",
    "def draw_line(event):\n",
    "    global prev_x, prev_y, drawing\n",
    "    x = event.x - canvas_width // 2\n",
    "    y = canvas_height // 2 - event.y\n",
    "\n",
    "    if event.type == '4':  # ButtonPress event\n",
    "        drawing = True\n",
    "        prev_x, prev_y = x, y\n",
    "\n",
    "    elif event.type == '5':  # ButtonRelease event\n",
    "        drawing = False\n",
    "        draw_line_on_image(x, y)\n",
    "        update_annotation_canvas()\n",
    "\n",
    "def draw_line_on_image(x, y):\n",
    "    annotation_draw.line([(prev_x, prev_y), (x, y)], fill='green', width=line_width)\n",
    "    prev_x, prev_y = x, y\n",
    "\n",
    "def display_coordinates(event=None):\n",
    "    center_x = canvas_width // 2\n",
    "    center_y = canvas_height // 2\n",
    "    top_left_x = prev_x + center_x\n",
    "    top_left_y = center_y - prev_y\n",
    "    print(f\"Start Point: ({top_left_x}, {top_left_y})\")\n",
    "    print(f\"End Point: ({prev_x + center_x}, {center_y - prev_y})\")\n",
    "\n",
    "image_path = \"path/to/image.jpg\"\n",
    "resize_width, resize_height = 800, 600  # Specify the desired resized dimensions\n",
    "line_width = 3  # Specify the desired line width for annotations\n",
    "\n",
    "# Load original image\n",
    "original_image = Image.open(image_path)\n",
    "original_width, original_height = original_image.size\n",
    "\n",
    "# Resize image for display\n",
    "display_image = original_image.resize((resize_width, resize_height), Image.LANCZOS)\n",
    "canvas_width, canvas_height = display_image.size\n",
    "\n",
    "# Create annotation canvas\n",
    "annotation_image = Image.new(\"RGB\", (original_width, original_height), color=(255, 255, 255))\n",
    "annotation_draw = ImageDraw.Draw(annotation_image)\n",
    "\n",
    "# Create main tkinter window\n",
    "root = tk.Tk()\n",
    "root.title(\"Image Annotation\")\n",
    "\n",
    "# Create original image canvas\n",
    "canvas_original = tk.Canvas(root, width=canvas_width, height=canvas_height)\n",
    "canvas_original.pack()\n",
    "\n",
    "# Create annotation canvas\n",
    "canvas_annotation = tk.Canvas(root, width=original_width, height=original_height)\n",
    "canvas_annotation.pack()\n",
    "\n",
    "# Convert images to Tkinter-compatible format\n",
    "photo_display = ImageTk.PhotoImage(display_image)\n",
    "photo_annotation = ImageTk.PhotoImage(annotation_image)\n",
    "\n",
    "# Display original image on original canvas\n",
    "canvas_original.create_image(canvas_width // 2, canvas_height // 2, image=photo_display)\n",
    "\n",
    "# Display annotation image on annotation canvas\n",
    "annotation_id = canvas_annotation.create_image(original_width // 2, original_height // 2, image=photo_annotation)\n",
    "\n",
    "# Function to update the annotation canvas\n",
    "def update_annotation_canvas():\n",
    "    photo_annotation = ImageTk.PhotoImage(annotation_image)\n",
    "    canvas_annotation.itemconfigure(annotation_id, image=photo_annotation)\n",
    "\n",
    "# Bind events to the canvas\n",
    "canvas_original.bind(\"<ButtonPress-1>\", draw_line)\n",
    "canvas_original.bind(\"<B1-Motion>\", draw_line)\n",
    "canvas_original.bind(\"<ButtonRelease-1>\", draw_line)\n",
    "root.bind(\"c\", display_coordinates)\n",
    "\n",
    "root.mainloop()"
   ]
  },
  {
   "cell_type": "markdown",
   "id": "68fb7541",
   "metadata": {},
   "source": [
    "In this modified code, the drawing action is changed to draw a line instead of a rectangle. \n",
    "The draw_line function is responsible for capturing the mouse events and drawing the line on the annotation image. \n",
    "The draw_line_on_image function is introduced to draw the line segment between the previous and current positions.\n",
    "\n",
    "You can adjust the line_width variable to specify the desired line width for your annotations.\n",
    "\n",
    "Remember to replace \"path/to/image.jpg\" with the actual path to your image file."
   ]
  },
  {
   "cell_type": "markdown",
   "id": "84c970a5",
   "metadata": {},
   "source": [
    "### User:\n",
    "\n",
    "What is prev_x and prev_y in the code?\n",
    "\n",
    "### Chat GPT:\n",
    "\n",
    "In the modified code, prev_x and prev_y are variables that keep track of the previous position (coordinates) of the mouse cursor during the drawing of the line.\n",
    "\n",
    "When a ButtonPress event occurs, the prev_x and prev_y variables are updated with the current coordinates of the mouse cursor. \n",
    "These values are then used in the draw_line_on_image function to draw a line segment from the previous position to the current position.\n",
    "\n",
    "By storing the previous position, we can continuously draw line segments as the mouse is moved, resulting in a connected line on the image canvas.\n",
    "\n",
    "The initial values of prev_x and prev_y are set to x and y when the drawing action starts, and they are updated in subsequent ButtonPress and B1-Motion events."
   ]
  },
  {
   "cell_type": "markdown",
   "id": "db5f58c1",
   "metadata": {},
   "source": [
    "### User:\n",
    "\n",
    "What part of the above code are used to initialize the variables?\n",
    "\n",
    "### Chat GPT:\n",
    "\n",
    "The initialization of variables in the modified code happens in the following sections:\n",
    "\n",
    "1. prev_x and prev_y are initialized in the draw_line function:"
   ]
  },
  {
   "cell_type": "code",
   "execution_count": null,
   "id": "0e65f539",
   "metadata": {},
   "outputs": [],
   "source": [
    "prev_x, prev_y = x, y"
   ]
  },
  {
   "cell_type": "markdown",
   "id": "2a03ad48",
   "metadata": {},
   "source": [
    "These variables are used to store the previous position of the mouse cursor during line drawing.\n",
    "\n",
    "2. 'line_width' is initialized at the beginning of the code:"
   ]
  },
  {
   "cell_type": "code",
   "execution_count": null,
   "id": "90a802b7",
   "metadata": {},
   "outputs": [],
   "source": [
    "line_width = 3  # Specify the desired line width for annotations"
   ]
  },
  {
   "cell_type": "markdown",
   "id": "ea3df2be",
   "metadata": {},
   "source": [
    "This variable specifies the width of the drawn lines for annotations.\n",
    "\n",
    "3. 'image_path', resize_width', and 'resize_height' are used to specify the image file path and\n",
    "the desired dimensions for resizing the image:"
   ]
  },
  {
   "cell_type": "code",
   "execution_count": null,
   "id": "5e473b62",
   "metadata": {},
   "outputs": [],
   "source": [
    "image_path = \"path/to/image.jpg\"\n",
    "resize_width, resize_height = 800, 600  # Specify the desired resized dimensions"
   ]
  },
  {
   "cell_type": "markdown",
   "id": "3da03936",
   "metadata": {},
   "source": [
    "You should replace \"path/to/image.jpg\" with the actual path to your image file and adjust the resize_width\n",
    "and resize_height variables as per your requirements.\n",
    "\n",
    "These initializations help set up the necessary variables for drawing lines, \n",
    "specifying line width, and working with the image file."
   ]
  }
 ],
 "metadata": {
  "kernelspec": {
   "display_name": "Python 3 (ipykernel)",
   "language": "python",
   "name": "python3"
  },
  "language_info": {
   "codemirror_mode": {
    "name": "ipython",
    "version": 3
   },
   "file_extension": ".py",
   "mimetype": "text/x-python",
   "name": "python",
   "nbconvert_exporter": "python",
   "pygments_lexer": "ipython3",
   "version": "3.10.9"
  }
 },
 "nbformat": 4,
 "nbformat_minor": 5
}
