{
 "cells": [
  {
   "cell_type": "markdown",
   "id": "59fcb06f",
   "metadata": {},
   "source": [
    "### User:\n",
    "\n",
    "My system is still having a hard time loading the image. \n",
    "Can you implement any recommendations you might have?\n",
    "\n",
    "### Chat GPT:\n",
    "\n",
    "If your system is struggling to load the image, you can implement a few optimizations to improve performance:\n",
    "\n",
    "1. Resize the image: \n",
    "If the image size is large, resizing it to a smaller dimension can significantly improve the performance. \n",
    "You can use the resize method from the PIL library to resize the image before displaying it. \n",
    "For example:"
   ]
  },
  {
   "cell_type": "code",
   "execution_count": null,
   "id": "b0fe11a6",
   "metadata": {},
   "outputs": [],
   "source": [
    "# Resize the image to a smaller dimension\n",
    "target_width = 800\n",
    "target_height = int(image.height * target_width / image.width)\n",
    "image = image.resize((target_width, target_height), Image.ANTIALIAS)"
   ]
  },
  {
   "cell_type": "markdown",
   "id": "34a80e3c",
   "metadata": {},
   "source": [
    "2. Limit the displayed image size: \n",
    "Instead of displaying the full-sized image, you can create a smaller thumbnail version of the image and display it on the canvas. \n",
    "This reduces the amount of data to be processed and displayed. \n",
    "Here's an example:"
   ]
  },
  {
   "cell_type": "code",
   "execution_count": null,
   "id": "f9fd86a8",
   "metadata": {},
   "outputs": [],
   "source": [
    "# Create a thumbnail of the image for display\n",
    "thumbnail_size = (800, 600)\n",
    "thumbnail_image = image.copy()\n",
    "thumbnail_image.thumbnail(thumbnail_size)"
   ]
  },
  {
   "cell_type": "markdown",
   "id": "9a22232a",
   "metadata": {},
   "source": [
    "3. Batch annotations: \n",
    "If you are annotating multiple objects, consider annotating them as a batch instead of annotating them one by one. \n",
    "This way, you can minimize the number of image updates and improve performance. \n",
    "Here's an example:"
   ]
  },
  {
   "cell_type": "code",
   "execution_count": null,
   "id": "29c62f0a",
   "metadata": {},
   "outputs": [],
   "source": [
    "# Define a list to store object coordinates\n",
    "object_coordinates_list = []\n",
    "\n",
    "# Define the annotation function to append coordinates to the list\n",
    "def annotate_objects(coordinates):\n",
    "    object_coordinates_list.append(coordinates)\n",
    "\n",
    "# After annotating all objects, iterate over the coordinates list and draw them on the image in a batch\n",
    "for coordinates in object_coordinates_list:\n",
    "    annotate_objects(coordinates)\n",
    "\n",
    "# Update the canvas with the final annotated image\n",
    "canvas.delete(canvas_image)\n",
    "image_tk = ImageTk.PhotoImage(image)\n",
    "canvas_image = canvas.create_image(0, 0, anchor=tk.NW, image=image_tk)"
   ]
  },
  {
   "cell_type": "markdown",
   "id": "f89cdd85",
   "metadata": {},
   "source": [
    "Implementing these optimizations should help improve the performance of the image annotation system on your system. \n",
    "Adjust the settings and parameters according to your specific requirements and the capabilities of your hardware."
   ]
  },
  {
   "cell_type": "markdown",
   "id": "6243599a",
   "metadata": {},
   "source": [
    "### My notes:\n",
    "\n",
    "I find the language of ChatGPT most interesting.\n",
    "It uses lots of contractions, which usually reflects informality.\n",
    "I wonder if this is a reflection of the language used on the internet,\n",
    "or if it the program intentionally created in such a way to seem\n",
    "more like a correspondance than a business associate.\n",
    "Additonally, the word 'Certainly!' reflects a cheery disposition.\n",
    "The explanation point indicates a sense of expression that \n",
    "machines, in my experience, are mocked for having no capacity for.\n",
    "I wonder if the ChatGPT also changes tone depending on its user.\n",
    "I had to create an account to use the program.\n",
    "If I started writing -in' instead of '-ing' or scattering French \n",
    "expressions throughout my expressions, would ChatGPT follow suit?"
   ]
  }
 ],
 "metadata": {
  "kernelspec": {
   "display_name": "Python 3 (ipykernel)",
   "language": "python",
   "name": "python3"
  },
  "language_info": {
   "codemirror_mode": {
    "name": "ipython",
    "version": 3
   },
   "file_extension": ".py",
   "mimetype": "text/x-python",
   "name": "python",
   "nbconvert_exporter": "python",
   "pygments_lexer": "ipython3",
   "version": "3.10.9"
  }
 },
 "nbformat": 4,
 "nbformat_minor": 5
}
