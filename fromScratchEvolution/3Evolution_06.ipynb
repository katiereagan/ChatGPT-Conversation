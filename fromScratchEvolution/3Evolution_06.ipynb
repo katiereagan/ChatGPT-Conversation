{
 "cells": [
  {
   "cell_type": "markdown",
   "id": "8d773776",
   "metadata": {},
   "source": [
    "### User:\n",
    "\n",
    "Can you insert these modifications into the previously generated code?\n",
    "\n",
    "### Chat GPT:\n",
    "\n",
    "Certainly! Here's the previously generated code with the modifications included:"
   ]
  },
  {
   "cell_type": "code",
   "execution_count": null,
   "id": "8469e861",
   "metadata": {},
   "outputs": [],
   "source": [
    "from PIL import Image, ImageDraw, ImageTk\n",
    "import tkinter as tk\n",
    "from tkinter import filedialog\n",
    "\n",
    "def draw_line(event):\n",
    "    global prev_x, prev_y, drawing\n",
    "    x = event.x - canvas_width // 2\n",
    "    y = canvas_height // 2 - event.y\n",
    "\n",
    "    if event.type == '4':  # ButtonPress event\n",
    "        drawing = True\n",
    "        prev_x, prev_y = x, y\n",
    "\n",
    "    elif event.type == '5':  # ButtonRelease event\n",
    "        drawing = False\n",
    "        draw_line_on_image(x, y)\n",
    "        update_annotation_canvas()\n",
    "        update_display()\n",
    "\n",
    "def draw_line_on_image(x, y):\n",
    "    annotation_draw.line([(prev_x, prev_y), (x, y)], fill='green', width=line_width)\n",
    "    prev_x, prev_y = x, y\n",
    "\n",
    "def display_coordinates(event=None):\n",
    "    center_x = canvas_width // 2\n",
    "    center_y = canvas_height // 2\n",
    "    start_x = prev_x + center_x\n",
    "    start_y = center_y - prev_y\n",
    "    end_x = center_x + prev_x\n",
    "    end_y = center_y - prev_y\n",
    "    print(f\"Start Point: ({start_x}, {start_y})\")\n",
    "    print(f\"End Point: ({end_x}, {end_y})\")\n",
    "\n",
    "def save_annotated_image():\n",
    "    file_path = filedialog.asksaveasfilename(defaultextension=\".jpg\")\n",
    "    if file_path:\n",
    "        annotation_image.save(file_path)\n",
    "\n",
    "def create_canvas(root):\n",
    "    global canvas_original, canvas_annotation\n",
    "\n",
    "    # Create original image canvas\n",
    "    canvas_original = tk.Canvas(root, width=canvas_width, height=canvas_height)\n",
    "    canvas_original.pack()\n",
    "\n",
    "    # Create annotation canvas\n",
    "    canvas_annotation = tk.Canvas(root, width=original_width, height=original_height)\n",
    "    canvas_annotation.pack()\n",
    "\n",
    "# Set up image and annotation parameters\n",
    "image_path = \"path/to/image.jpg\"\n",
    "resize_width, resize_height = 800, 600\n",
    "line_width = 3\n",
    "\n",
    "# Load original image\n",
    "original_image = Image.open(image_path)\n",
    "original_width, original_height = original_image.size\n",
    "\n",
    "# Resize image for display\n",
    "display_image = original_image.resize((resize_width, resize_height), Image.LANCZOS)\n",
    "canvas_width, canvas_height = display_image.size\n",
    "\n",
    "# Create annotation canvas\n",
    "annotation_image = Image.new(\"RGB\", (original_width, original_height), color=(255, 255, 255))\n",
    "annotation_draw = ImageDraw.Draw(annotation_image)\n",
    "\n",
    "# Initialize drawing variables\n",
    "drawing = False\n",
    "prev_x, prev_y = 0, 0\n",
    "\n",
    "# Create popup window\n",
    "root = tk.Tk()\n",
    "root.title(\"Image Annotation\")\n",
    "\n",
    "# Create original image canvas and annotation canvas\n",
    "create_canvas(root)\n",
    "\n",
    "# Convert images to Tkinter-compatible format\n",
    "photo_display = ImageTk.PhotoImage(display_image)\n",
    "photo_annotation = ImageTk.PhotoImage(annotation_image)\n",
    "\n",
    "# Display original image on original canvas\n",
    "canvas_original.create_image(canvas_width // 2, canvas_height // 2, image=photo_display)\n",
    "\n",
    "# Display annotation image on annotation canvas\n",
    "annotation_id = canvas_annotation.create_image(original_width // 2, original_height // 2, image=photo_annotation)\n",
    "\n",
    "# Create a \"Save\" button\n",
    "save_button = tk.Button(root, text=\"Save\", command=save_annotated_image)\n",
    "save_button.pack()\n",
    "\n",
    "# Bind events to the canvas\n",
    "canvas_original.bind(\"<ButtonPress-1>\", draw_line)\n",
    "canvas_original.bind(\"<B1-Motion>\", draw_line)\n",
    "canvas_original.bind(\"<ButtonRelease-1>\", display_coordinates)\n",
    "\n",
    "# Start the Tkinter event loop\n",
    "root.mainloop()"
   ]
  },
  {
   "cell_type": "markdown",
   "id": "3a1a6691",
   "metadata": {},
   "source": [
    "This code includes the modifications discussed earlier and ensures\n",
    "that the pop-up window"
   ]
  },
  {
   "cell_type": "markdown",
   "id": "043c2a6c",
   "metadata": {},
   "source": [
    "### My notes:\n",
    "\n",
    "The above code is incomplete."
   ]
  },
  {
   "cell_type": "markdown",
   "id": "487a65d2",
   "metadata": {},
   "source": [
    "### User:\n",
    "\n",
    "What does update_annotation_canvas mean?\n",
    "\n",
    "### Chat GPT:\n",
    "\n",
    "The update_annotation_canvas function is responsible for updating the displayed annotation on the annotation canvas. \n",
    "It converts the annotation image to a Tkinter-compatible format using ImageTk.PhotoImage and then updates the image \n",
    "shown on the canvas using canvas_annotation.itemconfigure.\n",
    "\n",
    "Here's the definition of the update_annotation_canvas function:"
   ]
  },
  {
   "cell_type": "code",
   "execution_count": null,
   "id": "49ef69a0",
   "metadata": {},
   "outputs": [],
   "source": [
    "def update_annotation_canvas():\n",
    "    photo_annotation = ImageTk.PhotoImage(annotation_image)\n",
    "    canvas_annotation.itemconfigure(annotation_id, image=photo_annotation)"
   ]
  },
  {
   "cell_type": "markdown",
   "id": "297aee60",
   "metadata": {},
   "source": [
    "In this function, annotation_image is the PIL image object that holds the annotation, and annotation_id is the identifier of the image item on the canvas. \n",
    "By updating the image displayed on the canvas with the updated annotation image, we can visualize the annotations made by the user."
   ]
  }
 ],
 "metadata": {
  "kernelspec": {
   "display_name": "Python 3 (ipykernel)",
   "language": "python",
   "name": "python3"
  },
  "language_info": {
   "codemirror_mode": {
    "name": "ipython",
    "version": 3
   },
   "file_extension": ".py",
   "mimetype": "text/x-python",
   "name": "python",
   "nbconvert_exporter": "python",
   "pygments_lexer": "ipython3",
   "version": "3.10.9"
  }
 },
 "nbformat": 4,
 "nbformat_minor": 5
}
