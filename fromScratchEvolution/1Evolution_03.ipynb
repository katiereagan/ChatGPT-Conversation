{
 "cells": [
  {
   "cell_type": "markdown",
   "id": "960ba615",
   "metadata": {},
   "source": [
    "### User: \n",
    "\n",
    "How can I modify the gui so that the coordinate points of the annotations of the image are displayed,\n",
    "with the center of the image acting as the origin regardless of location on the user's screen?\n",
    "\n",
    "### Chat GPT:\n",
    "\n",
    "To modify the GUI so that the coordinate points of the annotations are displayed with the center of the image acting as the origin, \n",
    "you can make the following changes to the code:\n",
    "\n",
    "1. Calculate the center coordinates of the image:"
   ]
  },
  {
   "cell_type": "code",
   "execution_count": null,
   "id": "5d9de7e6",
   "metadata": {},
   "outputs": [],
   "source": [
    "center_x = image.width // 2\n",
    "center_y = image.height // 2"
   ]
  },
  {
   "cell_type": "markdown",
   "id": "6f7279c1",
   "metadata": {},
   "source": [
    "2. Update the annotate() function to calculate the relative coordinates based on the image center:"
   ]
  },
  {
   "cell_type": "code",
   "execution_count": null,
   "id": "1ccac445",
   "metadata": {},
   "outputs": [],
   "source": [
    "def annotate(event):\n",
    "    # Calculate relative coordinates based on the image center\n",
    "    rel_x = event.x - center_x\n",
    "    rel_y = center_y - event.y  # Negate the y-coordinate to flip the y-axis direction\n",
    "\n",
    "    # Add the relative coordinates to the list\n",
    "    points.append((rel_x, rel_y))\n",
    "    # ... Rest of the code"
   ]
  },
  {
   "cell_type": "markdown",
   "id": "b9317d93",
   "metadata": {},
   "source": [
    "3. Display the annotated points with their relative coordinates on the GUI:"
   ]
  },
  {
   "cell_type": "code",
   "execution_count": null,
   "id": "be9fc72a",
   "metadata": {},
   "outputs": [],
   "source": [
    "def show_annotations():\n",
    "    for point, annotation in zip(points, annotations):\n",
    "        rel_x, rel_y = point\n",
    "        annotation_text = f'Point: ({rel_x}, {rel_y}), Annotation: {annotation}'\n",
    "        print(annotation_text)  # Display on console or update GUI label/textarea"
   ]
  },
  {
   "cell_type": "markdown",
   "id": "aff70ce9",
   "metadata": {},
   "source": [
    "You can call the show_annotations() function at any point to display the annotated points with their relative coordinates. \n",
    "You can modify it to update a GUI label or textarea with the annotations instead of printing to the console.\n",
    "\n",
    "These changes will calculate the relative coordinates based on the image center and display the annotations with respect to the center of the image as the origin, \n",
    "regardless of its location on the user's screen."
   ]
  },
  {
   "cell_type": "markdown",
   "id": "4542ba04",
   "metadata": {},
   "source": [
    "### User: \n",
    "\n",
    "Can you integrate the modification into the\n",
    "Python-based image annotation code without using cv2 code above?\n",
    "\n",
    "### Chat GPT:\n",
    "\n",
    "Certainly! Here's the modified code that integrates the changes into the Python-based \n",
    "image annotation code without using cv2:"
   ]
  },
  {
   "cell_type": "code",
   "execution_count": null,
   "id": "9da8b86f",
   "metadata": {},
   "outputs": [],
   "source": [
    "from PIL import Image, ImageDraw, ImageTk\n",
    "import tkinter as tk\n",
    "\n",
    "# Initialize the GUI\n",
    "root = tk.Tk()\n",
    "\n",
    "# Load the image\n",
    "image_path = 'image.jpg'\n",
    "image = Image.open(image_path)\n",
    "\n",
    "# Calculate the center coordinates of the image\n",
    "center_x = image.width // 2\n",
    "center_y = image.height // 2\n",
    "\n",
    "# Create a canvas to display the image\n",
    "canvas = tk.Canvas(root, width=image.width, height=image.height)\n",
    "canvas.pack()\n",
    "\n",
    "# Convert the PIL image to Tkinter-compatible format\n",
    "image_tk = ImageTk.PhotoImage(image)\n",
    "canvas.create_image(0, 0, anchor=tk.NW, image=image_tk)\n",
    "\n",
    "# Create lists to store annotation coordinates\n",
    "points = []\n",
    "annotations = []\n",
    "\n",
    "# Callback function for mouse events\n",
    "def annotate(event):\n",
    "    # Calculate relative coordinates based on the image center\n",
    "    rel_x = event.x - center_x\n",
    "    rel_y = center_y - event.y  # Negate the y-coordinate to flip the y-axis direction\n",
    "\n",
    "    # Add the relative coordinates to the list\n",
    "    points.append((rel_x, rel_y))\n",
    "\n",
    "    # Prompt the user to input annotation\n",
    "    annotation = input('Enter annotation: ')\n",
    "    annotations.append(annotation)\n",
    "\n",
    "    # Draw the point on the canvas\n",
    "    canvas.create_oval(event.x - 5, event.y - 5, event.x + 5, event.y + 5, fill='green')\n",
    "\n",
    "# Bind the callback function to the canvas mouse click event\n",
    "canvas.bind('<Button-1>', annotate)\n",
    "\n",
    "# Show the annotations with their relative coordinates\n",
    "def show_annotations():\n",
    "    for point, annotation in zip(points, annotations):\n",
    "        rel_x, rel_y = point\n",
    "        annotation_text = f'Point: ({rel_x}, {rel_y}), Annotation: {annotation}'\n",
    "        print(annotation_text)  # Display on console or update GUI label/textarea\n",
    "\n",
    "# Start the GUI event loop\n",
    "root.mainloop()\n",
    "\n",
    "# Show the annotations\n",
    "show_annotations()\n",
    "\n",
    "# Draw the annotated points on the image\n",
    "draw = ImageDraw.Draw(image)\n",
    "for point in points:\n",
    "    rel_x, rel_y = point\n",
    "    abs_x = center_x + rel_x\n",
    "    abs_y = center_y - rel_y  # Negate the relative y-coordinate to convert it back to absolute y-coordinate\n",
    "    draw.ellipse((abs_x - 5, abs_y - 5, abs_x + 5, abs_y + 5), fill='green')\n",
    "\n",
    "# Save the annotated image\n",
    "annotated_image_path = 'annotated_image.jpg'\n",
    "image.save(annotated_image_path)\n",
    "\n",
    "print('Image annotation complete.')"
   ]
  },
  {
   "cell_type": "markdown",
   "id": "e84a9d95",
   "metadata": {},
   "source": [
    "In this modified code, the center coordinates of the image are calculated using the image.width and image.height attributes. \n",
    "The annotate() function has been updated to calculate the relative coordinates based on the image center. \n",
    "The show_annotations() function is added to display the annotations with their relative coordinates.\n",
    "\n",
    "After annotating the image, the show_annotations() function is called to display the annotations with their relative coordinates. \n",
    "The annotated points are drawn on the image using the ImageDraw module from Pillow.\n",
    "\n",
    "Note that you may need to adjust the code further to suit your specific requirements or integrate it with your desired GUI components for displaying the annotations."
   ]
  },
  {
   "cell_type": "markdown",
   "id": "965e53c9",
   "metadata": {},
   "source": [
    "### User:\n",
    "\n",
    "When the user is prompted to enter annotation in the above program,\n",
    "what is one example of the input?\n",
    "\n",
    "### Chat GPT:\n",
    "\n",
    "When the user is prompted to enter an annotation in the provided program, \n",
    "the input can be any text that describes or labels the annotated point. \n",
    "The annotation can be specific to your use case or task. \n",
    "Here's an example of a possible input:\n",
    "kotlin: Enter annotation: Tree\n",
    "n this case, the user is labeling the annotated point as \"Tree\". \n",
    "The input can be anything relevant to the image or the specific task you are annotating, such as object names, \n",
    "labels, descriptions, or any other information that helps identify or describe the point of interest in the image."
   ]
  },
  {
   "cell_type": "markdown",
   "id": "b7d67d66",
   "metadata": {},
   "source": [
    "### My notes:\n",
    "\n",
    "kotlin is another high-level programming language.\n",
    "It seems to be most closely compared to Java."
   ]
  }
 ],
 "metadata": {
  "kernelspec": {
   "display_name": "Python 3 (ipykernel)",
   "language": "python",
   "name": "python3"
  },
  "language_info": {
   "codemirror_mode": {
    "name": "ipython",
    "version": 3
   },
   "file_extension": ".py",
   "mimetype": "text/x-python",
   "name": "python",
   "nbconvert_exporter": "python",
   "pygments_lexer": "ipython3",
   "version": "3.10.9"
  }
 },
 "nbformat": 4,
 "nbformat_minor": 5
}
