{
 "cells": [
  {
   "cell_type": "markdown",
   "id": "bae8d741",
   "metadata": {},
   "source": [
    "### User:\n",
    "\n",
    "How can I modify the GUI so that the coordinate points of the annotations of the image are displayed, \n",
    "with the center of the image acting as the origin regardless of location on the user's screen?\n",
    "\n",
    "### Chat GPT:\n",
    "\n",
    "To modify the GUI so that the coordinate points of the annotations are displayed, you can add text overlays on the image to show the coordinates. \n",
    "Here's an updated version of the previous code that includes the display of coordinates:"
   ]
  },
  {
   "cell_type": "code",
   "execution_count": 1,
   "id": "6f15252e",
   "metadata": {},
   "outputs": [
    {
     "ename": "FileNotFoundError",
     "evalue": "[Errno 2] No such file or directory: 'path/to/image.jpg'",
     "output_type": "error",
     "traceback": [
      "\u001b[0;31m---------------------------------------------------------------------------\u001b[0m",
      "\u001b[0;31mFileNotFoundError\u001b[0m                         Traceback (most recent call last)",
      "Cell \u001b[0;32mIn[1], line 6\u001b[0m\n\u001b[1;32m      4\u001b[0m \u001b[38;5;66;03m# Load the image\u001b[39;00m\n\u001b[1;32m      5\u001b[0m image_path \u001b[38;5;241m=\u001b[39m \u001b[38;5;124m\"\u001b[39m\u001b[38;5;124mpath/to/image.jpg\u001b[39m\u001b[38;5;124m\"\u001b[39m\n\u001b[0;32m----> 6\u001b[0m image \u001b[38;5;241m=\u001b[39m \u001b[43mImage\u001b[49m\u001b[38;5;241;43m.\u001b[39;49m\u001b[43mopen\u001b[49m\u001b[43m(\u001b[49m\u001b[43mimage_path\u001b[49m\u001b[43m)\u001b[49m\n\u001b[1;32m      8\u001b[0m \u001b[38;5;66;03m# Create an ImageDraw object to draw on the image\u001b[39;00m\n\u001b[1;32m      9\u001b[0m draw \u001b[38;5;241m=\u001b[39m ImageDraw\u001b[38;5;241m.\u001b[39mDraw(image)\n",
      "File \u001b[0;32m~/anaconda3/lib/python3.10/site-packages/PIL/Image.py:3227\u001b[0m, in \u001b[0;36mopen\u001b[0;34m(fp, mode, formats)\u001b[0m\n\u001b[1;32m   3224\u001b[0m     filename \u001b[38;5;241m=\u001b[39m fp\n\u001b[1;32m   3226\u001b[0m \u001b[38;5;28;01mif\u001b[39;00m filename:\n\u001b[0;32m-> 3227\u001b[0m     fp \u001b[38;5;241m=\u001b[39m \u001b[43mbuiltins\u001b[49m\u001b[38;5;241;43m.\u001b[39;49m\u001b[43mopen\u001b[49m\u001b[43m(\u001b[49m\u001b[43mfilename\u001b[49m\u001b[43m,\u001b[49m\u001b[43m \u001b[49m\u001b[38;5;124;43m\"\u001b[39;49m\u001b[38;5;124;43mrb\u001b[39;49m\u001b[38;5;124;43m\"\u001b[39;49m\u001b[43m)\u001b[49m\n\u001b[1;32m   3228\u001b[0m     exclusive_fp \u001b[38;5;241m=\u001b[39m \u001b[38;5;28;01mTrue\u001b[39;00m\n\u001b[1;32m   3230\u001b[0m \u001b[38;5;28;01mtry\u001b[39;00m:\n",
      "\u001b[0;31mFileNotFoundError\u001b[0m: [Errno 2] No such file or directory: 'path/to/image.jpg'"
     ]
    }
   ],
   "source": [
    "from PIL import Image, ImageDraw, ImageFont\n",
    "import tkinter as tk\n",
    "\n",
    "# Load the image\n",
    "image_path = \"path/to/image.jpg\"\n",
    "image = Image.open(image_path)\n",
    "\n",
    "# Create an ImageDraw object to draw on the image\n",
    "draw = ImageDraw.Draw(image)\n",
    "\n",
    "# Define the annotation function\n",
    "def annotate_objects(coordinates):\n",
    "    draw.rectangle(coordinates, outline=\"green\")\n",
    "    x = (coordinates[0][0] + coordinates[1][0]) // 2\n",
    "    y = (coordinates[0][1] + coordinates[1][1]) // 2\n",
    "    text = f\"({x}, {y})\"\n",
    "    font = ImageFont.truetype(\"path/to/font.ttf\", 12)  # Replace with your desired font file\n",
    "    text_width, text_height = draw.textsize(text, font=font)\n",
    "    draw.rectangle((x-2, y-2, x+2, y+2), fill=\"red\")  # Mark the center with a red dot\n",
    "    draw.text((x+5, y-text_height//2), text, fill=\"white\", font=font)  # Display coordinates as text\n",
    "\n",
    "# Create a Tkinter window\n",
    "window = tk.Tk()\n",
    "\n",
    "# Load the image into a Tkinter label\n",
    "image_tk = ImageTk.PhotoImage(image)\n",
    "label = tk.Label(window, image=image_tk)\n",
    "label.pack()\n",
    "\n",
    "# Define the mouse click event handler\n",
    "def mouse_click(event):\n",
    "    global image, image_tk, label\n",
    "    x = label.winfo_rootx() + event.x\n",
    "    y = label.winfo_rooty() + event.y\n",
    "    annotate_objects([(x-50, y-50), (x+50, y+50)])\n",
    "    image_tk = ImageTk.PhotoImage(image)\n",
    "    label.configure(image=image_tk)\n",
    "\n",
    "# Bind the mouse click event to the label\n",
    "label.bind(\"<Button-1>\", mouse_click)\n",
    "\n",
    "# Start the Tkinter event loop\n",
    "window.mainloop()\n",
    "\n",
    "# Save the annotated image\n",
    "annotated_image_path = \"path/to/annotated_image.jpg\"\n",
    "image.save(annotated_image_path)"
   ]
  },
  {
   "cell_type": "markdown",
   "id": "aabcb542",
   "metadata": {},
   "source": [
    "This updated code uses Tkinter (tk) to create a window and display the image. \n",
    "The annotate_objects function now calculates the center coordinates of the annotated object and displays it as text \n",
    "using the text and textsize methods of the ImageDraw object. \n",
    "The mouse_click event handler has been modified to correctly calculate the coordinates relative to the image\n",
    "and display the annotations accordingly. The annotated image is saved as before."
   ]
  },
  {
   "cell_type": "markdown",
   "id": "f5318737",
   "metadata": {},
   "source": [
    "### User:\n",
    "\n",
    "The annotation system runs slowly. \n",
    "Is there a way for you to optimize the above program?\n",
    "\n",
    "### Chat GPT:\n",
    "\n",
    "To optimize the annotation system and improve performance, you can use a technique called \"double buffering.\" \n",
    "By utilizing double buffering, you can reduce the number of image updates and improve the responsiveness of the annotation system. \n",
    "Here's an optimized version of the code that implements double buffering:"
   ]
  },
  {
   "cell_type": "code",
   "execution_count": null,
   "id": "8a903796",
   "metadata": {},
   "outputs": [],
   "source": [
    "from PIL import Image, ImageDraw, ImageFont\n",
    "import tkinter as tk\n",
    "\n",
    "# Load the image\n",
    "image_path = \"path/to/image.jpg\"\n",
    "image = Image.open(image_path)\n",
    "\n",
    "# Create an ImageDraw object to draw on the image\n",
    "draw = ImageDraw.Draw(image)\n",
    "\n",
    "# Define the annotation function\n",
    "def annotate_objects(coordinates):\n",
    "    draw.rectangle(coordinates, outline=\"green\")\n",
    "    x = (coordinates[0][0] + coordinates[1][0]) // 2\n",
    "    y = (coordinates[0][1] + coordinates[1][1]) // 2\n",
    "    text = f\"({x}, {y})\"\n",
    "    font = ImageFont.truetype(\"path/to/font.ttf\", 12)  # Replace with your desired font file\n",
    "    text_width, text_height = draw.textsize(text, font=font)\n",
    "    draw.rectangle((x-2, y-2, x+2, y+2), fill=\"red\")  # Mark the center with a red dot\n",
    "    draw.text((x+5, y-text_height//2), text, fill=\"white\", font=font)  # Display coordinates as text\n",
    "\n",
    "# Create a Tkinter window\n",
    "window = tk.Tk()\n",
    "\n",
    "# Create a canvas to display the image\n",
    "canvas = tk.Canvas(window, width=image.width, height=image.height)\n",
    "canvas.pack()\n",
    "\n",
    "# Load the image onto the canvas\n",
    "image_tk = ImageTk.PhotoImage(image)\n",
    "canvas_image = canvas.create_image(0, 0, anchor=tk.NW, image=image_tk)\n",
    "\n",
    "# Define the mouse click event handler\n",
    "def mouse_click(event):\n",
    "    x = event.x\n",
    "    y = event.y\n",
    "    x_relative = x - canvas.winfo_rootx()\n",
    "    y_relative = y - canvas.winfo_rooty()\n",
    "    annotate_objects([(x_relative-50, y_relative-50), (x_relative+50, y_relative+50)])\n",
    "    canvas.delete(canvas_image)\n",
    "    image_tk = ImageTk.PhotoImage(image)\n",
    "    canvas_image = canvas.create_image(0, 0, anchor=tk.NW, image=image_tk)\n",
    "\n",
    "# Bind the mouse click event to the canvas\n",
    "canvas.bind(\"<Button-1>\", mouse_click)\n",
    "\n",
    "# Start the Tkinter event loop\n",
    "window.mainloop()\n",
    "\n",
    "# Save the annotated image\n",
    "annotated_image_path = \"path/to/annotated_image.jpg\"\n",
    "image.save(annotated_image_path)"
   ]
  },
  {
   "cell_type": "markdown",
   "id": "486df9e5",
   "metadata": {},
   "source": [
    "In this optimized version, the image is displayed on a Tkinter canvas instead of a label. \n",
    "The canvas uses the create_image method to load the image once, and the create_image method is used again to update the image with annotations. \n",
    "This way, instead of redrawing the entire image and annotations every time, we only update the specific regions that have changed. \n",
    "The performance improvement should be noticeable when annotating multiple objects."
   ]
  },
  {
   "cell_type": "markdown",
   "id": "dd476992",
   "metadata": {},
   "source": [
    "### My notes:\n",
    "\n",
    "It's interesting that ChatGPT almost always has notes for explanations\n",
    "after the code, in addition to the comments in the code itself.\n",
    "I wonder if this gets annoying for those who are more familiar with\n",
    "the methods that ChatGPT uses. \n",
    "Additionally, I wonder if this would enable ChatGPT to be more marketable\n",
    "as a tool for education, as opposed to a way for individuals\n",
    "to get instantaneous solutions to problems with zero brain power required."
   ]
  }
 ],
 "metadata": {
  "kernelspec": {
   "display_name": "Python 3 (ipykernel)",
   "language": "python",
   "name": "python3"
  },
  "language_info": {
   "codemirror_mode": {
    "name": "ipython",
    "version": 3
   },
   "file_extension": ".py",
   "mimetype": "text/x-python",
   "name": "python",
   "nbconvert_exporter": "python",
   "pygments_lexer": "ipython3",
   "version": "3.10.9"
  }
 },
 "nbformat": 4,
 "nbformat_minor": 5
}
