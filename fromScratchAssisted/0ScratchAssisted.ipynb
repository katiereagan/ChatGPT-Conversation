{
 "cells": [
  {
   "cell_type": "markdown",
   "id": "1ab48d7f",
   "metadata": {},
   "source": [
    "### Overview\n",
    "\n",
    "The method I intended to use and title 'ScratchAssisted' starts by giving\n",
    "ChatGPT a rough baseline established from both the code previously established as well as\n",
    "the knowledge I have accumulated throughout this experience.\n",
    "Note that this code does not meet the specifications required, nor does\n",
    "it initially run at all.\n",
    "Using this  code as a baseline, I then used Chat GPT\n",
    "to correct develop the code.\n",
    "The general process is to suggest a new feature, debug, then evaluate\n",
    "the new code based on my knowledge. Once I feel that the code meets my standards,\n",
    "I suggest a new feature, debug, etc.\n",
    "The goal is to eventually create a polished program that\n",
    "meets the needs of the research.\n",
    "\n",
    "1ScratchAssisted uses Tkinter while 2ScratchAssisted uses Plotly Dash."
   ]
  }
 ],
 "metadata": {
  "kernelspec": {
   "display_name": "Python 3 (ipykernel)",
   "language": "python",
   "name": "python3"
  },
  "language_info": {
   "codemirror_mode": {
    "name": "ipython",
    "version": 3
   },
   "file_extension": ".py",
   "mimetype": "text/x-python",
   "name": "python",
   "nbconvert_exporter": "python",
   "pygments_lexer": "ipython3",
   "version": "3.10.9"
  }
 },
 "nbformat": 4,
 "nbformat_minor": 5
}
