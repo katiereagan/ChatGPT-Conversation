{
 "cells": [
  {
   "cell_type": "markdown",
   "id": "5888e060",
   "metadata": {},
   "source": [
    "### Overview\n",
    "\n",
    "The method I intended to use and title 'ScratchList' starts by entering an extensive list\n",
    "of requests and goals into ChatGPT to create an image annotation program in Python.\n",
    "Using the initial as a baseline, I then used the AI software to \n",
    "further develop the code.\n",
    "\n",
    "The general process is to address an issue in one of the features, debug,\n",
    "address another issue, debug, etc.\n",
    "The goal is to eventually get the baseline program to meet the \n",
    "standards outlined in the initial request.\n",
    "\n",
    "1ScratchList varies from 2ScratchList in that 2ScratchList is the second attempt using this\n",
    "method, including a different set of initial requirements."
   ]
  }
 ],
 "metadata": {
  "kernelspec": {
   "display_name": "Python 3 (ipykernel)",
   "language": "python",
   "name": "python3"
  },
  "language_info": {
   "codemirror_mode": {
    "name": "ipython",
    "version": 3
   },
   "file_extension": ".py",
   "mimetype": "text/x-python",
   "name": "python",
   "nbconvert_exporter": "python",
   "pygments_lexer": "ipython3",
   "version": "3.10.9"
  }
 },
 "nbformat": 4,
 "nbformat_minor": 5
}
